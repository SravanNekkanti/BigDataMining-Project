{
 "cells": [
  {
   "cell_type": "code",
   "execution_count": 1,
   "id": "9d034967-071c-445a-aae5-ee5bad32f458",
   "metadata": {
    "tags": []
   },
   "outputs": [],
   "source": [
    "import nltk\n",
    "import re\n",
    "import string\n",
    "import pandas as pd\n",
    "import numpy as np\n",
    "import requests\n",
    "import matplotlib.pyplot as plt\n",
    "from sklearn.metrics import accuracy_score, classification_report, confusion_matrix\n",
    "from sklearn.ensemble import ExtraTreesClassifier\n",
    "from sklearn.ensemble import RandomForestClassifier\n",
    "from sklearn.feature_selection import SelectKBest\n",
    "from sklearn.feature_selection import chi2\n",
    "from sklearn.model_selection import train_test_split\n",
    "from sklearn.cluster import KMeans\n",
    "from sklearn.preprocessing import StandardScaler\n",
    "from sklearn.metrics import silhouette_score\n",
    "from math import radians, sin, cos, sqrt, atan2\n",
    "from sklearn.preprocessing import LabelEncoder\n",
    "from nltk.tokenize import word_tokenize\n",
    "from nltk.corpus import stopwords\n",
    "from nltk.stem import WordNetLemmatizer\n",
    "from sklearn.linear_model import LogisticRegression\n",
    "from sklearn.ensemble import AdaBoostClassifier\n",
    "from sklearn.metrics import mean_squared_error, r2_score\n",
    "\n",
    "\n",
    "# from evalml.objectives import get_optimization_objectives\n",
    "# from evalml.problem_types import ProblemTypes\n",
    "\n",
    "from sklearn.feature_extraction.text import TfidfVectorizer \n",
    "from sklearn.tree import DecisionTreeClassifier\n",
    "from sklearn.preprocessing import StandardScaler\n",
    "from sklearn.neighbors import KNeighborsClassifier\n",
    "from sklearn.naive_bayes import GaussianNB\n",
    "from sklearn.ensemble import VotingClassifier\n",
    "from sklearn.decomposition import PCA\n",
    "from sklearn.model_selection import train_test_split\n",
    "from sklearn.preprocessing import RobustScaler\n",
    "from sklearn.linear_model import LinearRegression\n",
    "import os\n"
   ]
  },
  {
   "cell_type": "code",
   "execution_count": 2,
   "id": "1b2093bc-f8b6-4b8d-b5c6-5454a970d9a1",
   "metadata": {
    "tags": []
   },
   "outputs": [
    {
     "name": "stdout",
     "output_type": "stream",
     "text": [
      "Before drop:  548999\n"
     ]
    }
   ],
   "source": [
    "directory_path = r\"Downloads/drive-download-20231127T023713Z-001\"\n",
    "df_array = []\n",
    "rowtotal_before_eda = []\n",
    "\n",
    "for filename in os.listdir(directory_path):\n",
    "    if filename.endswith(\".csv\"):\n",
    "        file_path = os.path.join(directory_path, filename)\n",
    "\n",
    "        # Read the CSV file into a DataFrame and append to the list\n",
    "        \n",
    "        df = pd.read_csv(file_path)\n",
    "        df_array.append(df)\n",
    "        rowtotal_before_eda.append(df.shape[0])\n",
    "        \n",
    "\n",
    "# Concatenate all DataFrames in the list\n",
    "final_df = pd.concat(df_array, axis=0, ignore_index=True)\n",
    "print(\"Before drop: \", sum(rowtotal_before_eda))\n"
   ]
  },
  {
   "cell_type": "code",
   "execution_count": 3,
   "id": "f9030f60-bda3-403c-a6bf-97281dbada74",
   "metadata": {
    "tags": []
   },
   "outputs": [
    {
     "name": "stdout",
     "output_type": "stream",
     "text": [
      "Before drop:  548999\n",
      "After drop:  496380\n"
     ]
    }
   ],
   "source": [
    "directory_path = r\"Downloads/drive-download-20231127T023713Z-001\"\n",
    "\n",
    "# List to store DataFrames\n",
    "df_array = []\n",
    "rowtotal_before_eda = []\n",
    "rowtotal_after_eda = []\n",
    "# Iterate through all files in the directory\n",
    "for filename in os.listdir(directory_path):\n",
    "    if filename.endswith(\".csv\"):\n",
    "        file_path = os.path.join(directory_path, filename)\n",
    "\n",
    "        # Read the CSV file into a DataFrame and append to the list\n",
    "        df = pd.read_csv(file_path)\n",
    "        df = df.drop(columns=[\"End_Lat\", \"End_Lng\"], axis=1)\n",
    "        rowtotal_before_eda.append(df.shape[0])\n",
    "        df = df.dropna()\n",
    "        df_array.append(df)\n",
    "        rowtotal_after_eda.append(df.shape[0])\n",
    "print(\"Before drop: \", sum(rowtotal_before_eda))\n",
    "print(\"After drop: \", sum(rowtotal_after_eda))"
   ]
  },
  {
   "cell_type": "code",
   "execution_count": 4,
   "id": "e2659086-1838-4ae1-ad8a-36ea90d34ee8",
   "metadata": {
    "tags": []
   },
   "outputs": [
    {
     "data": {
      "text/plain": [
       "Index(['ID', 'Source', 'Severity', 'Start_Time', 'End_Time', 'Start_Lat',\n",
       "       'Start_Lng', 'Distance(mi)', 'Description', 'Street', 'City', 'County',\n",
       "       'State', 'Zipcode', 'Country', 'Timezone', 'Airport_Code',\n",
       "       'Weather_Timestamp', 'Temperature(F)', 'Wind_Chill(F)', 'Humidity(%)',\n",
       "       'Pressure(in)', 'Visibility(mi)', 'Wind_Direction', 'Wind_Speed(mph)',\n",
       "       'Precipitation(in)', 'Weather_Condition', 'Amenity', 'Bump', 'Crossing',\n",
       "       'Give_Way', 'Junction', 'No_Exit', 'Railway', 'Roundabout', 'Station',\n",
       "       'Stop', 'Traffic_Calming', 'Traffic_Signal', 'Turning_Loop',\n",
       "       'Sunrise_Sunset', 'month'],\n",
       "      dtype='object')"
      ]
     },
     "execution_count": 4,
     "metadata": {},
     "output_type": "execute_result"
    }
   ],
   "source": [
    "df_array[0].columns"
   ]
  },
  {
   "cell_type": "code",
   "execution_count": 5,
   "id": "e3f7ec23-7670-4c57-a387-875b92a27942",
   "metadata": {
    "tags": []
   },
   "outputs": [
    {
     "data": {
      "text/plain": [
       "21"
      ]
     },
     "execution_count": 5,
     "metadata": {},
     "output_type": "execute_result"
    }
   ],
   "source": [
    "len(df_array)"
   ]
  },
  {
   "cell_type": "code",
   "execution_count": 6,
   "id": "e765ac2f-e753-4796-a40e-9ff30f21d25d",
   "metadata": {
    "tags": []
   },
   "outputs": [],
   "source": [
    "final_df = pd.concat(df_array, axis=0, ignore_index=True)"
   ]
  },
  {
   "cell_type": "code",
   "execution_count": 7,
   "id": "9348d878-8584-4e06-86c1-afadf09d0e4b",
   "metadata": {
    "tags": []
   },
   "outputs": [
    {
     "name": "stdout",
     "output_type": "stream",
     "text": [
      "<class 'pandas.core.frame.DataFrame'>\n",
      "RangeIndex: 496380 entries, 0 to 496379\n",
      "Data columns (total 42 columns):\n",
      " #   Column             Non-Null Count   Dtype  \n",
      "---  ------             --------------   -----  \n",
      " 0   ID                 496380 non-null  object \n",
      " 1   Source             496380 non-null  object \n",
      " 2   Severity           496380 non-null  int64  \n",
      " 3   Start_Time         496380 non-null  object \n",
      " 4   End_Time           496380 non-null  object \n",
      " 5   Start_Lat          496380 non-null  float64\n",
      " 6   Start_Lng          496380 non-null  float64\n",
      " 7   Distance(mi)       496380 non-null  float64\n",
      " 8   Description        496380 non-null  object \n",
      " 9   Street             496380 non-null  object \n",
      " 10  City               496380 non-null  object \n",
      " 11  County             496380 non-null  object \n",
      " 12  State              496380 non-null  object \n",
      " 13  Zipcode            496380 non-null  object \n",
      " 14  Country            496380 non-null  object \n",
      " 15  Timezone           496380 non-null  object \n",
      " 16  Airport_Code       496380 non-null  object \n",
      " 17  Weather_Timestamp  496380 non-null  object \n",
      " 18  Temperature(F)     496380 non-null  float64\n",
      " 19  Wind_Chill(F)      496380 non-null  float64\n",
      " 20  Humidity(%)        496380 non-null  float64\n",
      " 21  Pressure(in)       496380 non-null  float64\n",
      " 22  Visibility(mi)     496380 non-null  float64\n",
      " 23  Wind_Direction     496380 non-null  object \n",
      " 24  Wind_Speed(mph)    496380 non-null  float64\n",
      " 25  Precipitation(in)  496380 non-null  float64\n",
      " 26  Weather_Condition  496380 non-null  object \n",
      " 27  Amenity            496380 non-null  bool   \n",
      " 28  Bump               496380 non-null  bool   \n",
      " 29  Crossing           496380 non-null  bool   \n",
      " 30  Give_Way           496380 non-null  bool   \n",
      " 31  Junction           496380 non-null  bool   \n",
      " 32  No_Exit            496380 non-null  bool   \n",
      " 33  Railway            496380 non-null  bool   \n",
      " 34  Roundabout         496380 non-null  bool   \n",
      " 35  Station            496380 non-null  bool   \n",
      " 36  Stop               496380 non-null  bool   \n",
      " 37  Traffic_Calming    496380 non-null  bool   \n",
      " 38  Traffic_Signal     496380 non-null  bool   \n",
      " 39  Turning_Loop       496380 non-null  bool   \n",
      " 40  Sunrise_Sunset     496380 non-null  object \n",
      " 41  month              496380 non-null  float64\n",
      "dtypes: bool(13), float64(11), int64(1), object(17)\n",
      "memory usage: 116.0+ MB\n"
     ]
    }
   ],
   "source": [
    "final_df.info()"
   ]
  },
  {
   "cell_type": "code",
   "execution_count": 8,
   "id": "a8236412-9c54-4028-ada4-7a59e172e73a",
   "metadata": {
    "tags": []
   },
   "outputs": [
    {
     "data": {
      "text/html": [
       "<div>\n",
       "<style scoped>\n",
       "    .dataframe tbody tr th:only-of-type {\n",
       "        vertical-align: middle;\n",
       "    }\n",
       "\n",
       "    .dataframe tbody tr th {\n",
       "        vertical-align: top;\n",
       "    }\n",
       "\n",
       "    .dataframe thead th {\n",
       "        text-align: right;\n",
       "    }\n",
       "</style>\n",
       "<table border=\"1\" class=\"dataframe\">\n",
       "  <thead>\n",
       "    <tr style=\"text-align: right;\">\n",
       "      <th></th>\n",
       "      <th>count</th>\n",
       "      <th>mean</th>\n",
       "      <th>std</th>\n",
       "      <th>min</th>\n",
       "      <th>25%</th>\n",
       "      <th>50%</th>\n",
       "      <th>75%</th>\n",
       "      <th>max</th>\n",
       "    </tr>\n",
       "  </thead>\n",
       "  <tbody>\n",
       "    <tr>\n",
       "      <th>Severity</th>\n",
       "      <td>496380.0</td>\n",
       "      <td>2.241231</td>\n",
       "      <td>0.486580</td>\n",
       "      <td>1.000000</td>\n",
       "      <td>2.000000</td>\n",
       "      <td>2.000000</td>\n",
       "      <td>2.000000</td>\n",
       "      <td>4.000000</td>\n",
       "    </tr>\n",
       "    <tr>\n",
       "      <th>Start_Lat</th>\n",
       "      <td>496380.0</td>\n",
       "      <td>34.765113</td>\n",
       "      <td>5.015482</td>\n",
       "      <td>25.808481</td>\n",
       "      <td>32.746559</td>\n",
       "      <td>33.944302</td>\n",
       "      <td>39.711170</td>\n",
       "      <td>47.412060</td>\n",
       "    </tr>\n",
       "    <tr>\n",
       "      <th>Start_Lng</th>\n",
       "      <td>496380.0</td>\n",
       "      <td>-92.746474</td>\n",
       "      <td>12.971413</td>\n",
       "      <td>-123.404631</td>\n",
       "      <td>-96.914310</td>\n",
       "      <td>-85.678400</td>\n",
       "      <td>-82.260422</td>\n",
       "      <td>-70.592566</td>\n",
       "    </tr>\n",
       "    <tr>\n",
       "      <th>Distance(mi)</th>\n",
       "      <td>496380.0</td>\n",
       "      <td>0.388937</td>\n",
       "      <td>1.230507</td>\n",
       "      <td>0.000000</td>\n",
       "      <td>0.000000</td>\n",
       "      <td>0.010000</td>\n",
       "      <td>0.328000</td>\n",
       "      <td>254.399994</td>\n",
       "    </tr>\n",
       "    <tr>\n",
       "      <th>Temperature(F)</th>\n",
       "      <td>496380.0</td>\n",
       "      <td>63.728431</td>\n",
       "      <td>19.223672</td>\n",
       "      <td>-89.000000</td>\n",
       "      <td>51.000000</td>\n",
       "      <td>66.200000</td>\n",
       "      <td>78.100000</td>\n",
       "      <td>116.600000</td>\n",
       "    </tr>\n",
       "    <tr>\n",
       "      <th>Wind_Chill(F)</th>\n",
       "      <td>496380.0</td>\n",
       "      <td>61.664192</td>\n",
       "      <td>21.388310</td>\n",
       "      <td>-89.000000</td>\n",
       "      <td>48.962162</td>\n",
       "      <td>66.000000</td>\n",
       "      <td>78.000000</td>\n",
       "      <td>115.000000</td>\n",
       "    </tr>\n",
       "    <tr>\n",
       "      <th>Humidity(%)</th>\n",
       "      <td>496380.0</td>\n",
       "      <td>63.412297</td>\n",
       "      <td>22.683365</td>\n",
       "      <td>2.000000</td>\n",
       "      <td>46.000000</td>\n",
       "      <td>65.000000</td>\n",
       "      <td>83.000000</td>\n",
       "      <td>100.000000</td>\n",
       "    </tr>\n",
       "    <tr>\n",
       "      <th>Pressure(in)</th>\n",
       "      <td>496380.0</td>\n",
       "      <td>29.408986</td>\n",
       "      <td>1.179072</td>\n",
       "      <td>16.820000</td>\n",
       "      <td>29.250000</td>\n",
       "      <td>29.720000</td>\n",
       "      <td>30.010000</td>\n",
       "      <td>31.140000</td>\n",
       "    </tr>\n",
       "    <tr>\n",
       "      <th>Visibility(mi)</th>\n",
       "      <td>496380.0</td>\n",
       "      <td>9.496003</td>\n",
       "      <td>4.065445</td>\n",
       "      <td>0.000000</td>\n",
       "      <td>10.000000</td>\n",
       "      <td>10.000000</td>\n",
       "      <td>10.000000</td>\n",
       "      <td>111.000000</td>\n",
       "    </tr>\n",
       "    <tr>\n",
       "      <th>Wind_Speed(mph)</th>\n",
       "      <td>496380.0</td>\n",
       "      <td>8.407284</td>\n",
       "      <td>5.207016</td>\n",
       "      <td>0.000000</td>\n",
       "      <td>5.000000</td>\n",
       "      <td>8.000000</td>\n",
       "      <td>12.000000</td>\n",
       "      <td>255.000000</td>\n",
       "    </tr>\n",
       "    <tr>\n",
       "      <th>Precipitation(in)</th>\n",
       "      <td>496380.0</td>\n",
       "      <td>0.008291</td>\n",
       "      <td>0.046027</td>\n",
       "      <td>0.000000</td>\n",
       "      <td>0.000000</td>\n",
       "      <td>0.000000</td>\n",
       "      <td>0.001190</td>\n",
       "      <td>4.090000</td>\n",
       "    </tr>\n",
       "    <tr>\n",
       "      <th>month</th>\n",
       "      <td>496380.0</td>\n",
       "      <td>6.716179</td>\n",
       "      <td>3.631927</td>\n",
       "      <td>1.000000</td>\n",
       "      <td>3.000000</td>\n",
       "      <td>7.000000</td>\n",
       "      <td>10.000000</td>\n",
       "      <td>12.000000</td>\n",
       "    </tr>\n",
       "  </tbody>\n",
       "</table>\n",
       "</div>"
      ],
      "text/plain": [
       "                      count       mean        std         min        25%  \\\n",
       "Severity           496380.0   2.241231   0.486580    1.000000   2.000000   \n",
       "Start_Lat          496380.0  34.765113   5.015482   25.808481  32.746559   \n",
       "Start_Lng          496380.0 -92.746474  12.971413 -123.404631 -96.914310   \n",
       "Distance(mi)       496380.0   0.388937   1.230507    0.000000   0.000000   \n",
       "Temperature(F)     496380.0  63.728431  19.223672  -89.000000  51.000000   \n",
       "Wind_Chill(F)      496380.0  61.664192  21.388310  -89.000000  48.962162   \n",
       "Humidity(%)        496380.0  63.412297  22.683365    2.000000  46.000000   \n",
       "Pressure(in)       496380.0  29.408986   1.179072   16.820000  29.250000   \n",
       "Visibility(mi)     496380.0   9.496003   4.065445    0.000000  10.000000   \n",
       "Wind_Speed(mph)    496380.0   8.407284   5.207016    0.000000   5.000000   \n",
       "Precipitation(in)  496380.0   0.008291   0.046027    0.000000   0.000000   \n",
       "month              496380.0   6.716179   3.631927    1.000000   3.000000   \n",
       "\n",
       "                         50%        75%         max  \n",
       "Severity            2.000000   2.000000    4.000000  \n",
       "Start_Lat          33.944302  39.711170   47.412060  \n",
       "Start_Lng         -85.678400 -82.260422  -70.592566  \n",
       "Distance(mi)        0.010000   0.328000  254.399994  \n",
       "Temperature(F)     66.200000  78.100000  116.600000  \n",
       "Wind_Chill(F)      66.000000  78.000000  115.000000  \n",
       "Humidity(%)        65.000000  83.000000  100.000000  \n",
       "Pressure(in)       29.720000  30.010000   31.140000  \n",
       "Visibility(mi)     10.000000  10.000000  111.000000  \n",
       "Wind_Speed(mph)     8.000000  12.000000  255.000000  \n",
       "Precipitation(in)   0.000000   0.001190    4.090000  \n",
       "month               7.000000  10.000000   12.000000  "
      ]
     },
     "execution_count": 8,
     "metadata": {},
     "output_type": "execute_result"
    }
   ],
   "source": [
    "final_df.describe().T"
   ]
  },
  {
   "cell_type": "code",
   "execution_count": 9,
   "id": "55ee736c-2f73-4c6e-a71b-f24a3cecc421",
   "metadata": {
    "tags": []
   },
   "outputs": [
    {
     "data": {
      "text/html": [
       "<div>\n",
       "<style scoped>\n",
       "    .dataframe tbody tr th:only-of-type {\n",
       "        vertical-align: middle;\n",
       "    }\n",
       "\n",
       "    .dataframe tbody tr th {\n",
       "        vertical-align: top;\n",
       "    }\n",
       "\n",
       "    .dataframe thead th {\n",
       "        text-align: right;\n",
       "    }\n",
       "</style>\n",
       "<table border=\"1\" class=\"dataframe\">\n",
       "  <thead>\n",
       "    <tr style=\"text-align: right;\">\n",
       "      <th></th>\n",
       "      <th>ID</th>\n",
       "      <th>Source</th>\n",
       "      <th>Severity</th>\n",
       "      <th>Start_Time</th>\n",
       "      <th>End_Time</th>\n",
       "      <th>Start_Lat</th>\n",
       "      <th>Start_Lng</th>\n",
       "      <th>Distance(mi)</th>\n",
       "      <th>Description</th>\n",
       "      <th>Street</th>\n",
       "      <th>...</th>\n",
       "      <th>No_Exit</th>\n",
       "      <th>Railway</th>\n",
       "      <th>Roundabout</th>\n",
       "      <th>Station</th>\n",
       "      <th>Stop</th>\n",
       "      <th>Traffic_Calming</th>\n",
       "      <th>Traffic_Signal</th>\n",
       "      <th>Turning_Loop</th>\n",
       "      <th>Sunrise_Sunset</th>\n",
       "      <th>month</th>\n",
       "    </tr>\n",
       "  </thead>\n",
       "  <tbody>\n",
       "    <tr>\n",
       "      <th>0</th>\n",
       "      <td>A-261024</td>\n",
       "      <td>Source2</td>\n",
       "      <td>3</td>\n",
       "      <td>2016-11-30 16:54:09</td>\n",
       "      <td>2016-11-30 17:53:43</td>\n",
       "      <td>32.824287</td>\n",
       "      <td>-97.312775</td>\n",
       "      <td>0.01</td>\n",
       "      <td>#2 lane blocked due to accident on I-35W North...</td>\n",
       "      <td>Meacham Blvd</td>\n",
       "      <td>...</td>\n",
       "      <td>False</td>\n",
       "      <td>False</td>\n",
       "      <td>False</td>\n",
       "      <td>False</td>\n",
       "      <td>False</td>\n",
       "      <td>False</td>\n",
       "      <td>True</td>\n",
       "      <td>False</td>\n",
       "      <td>Day</td>\n",
       "      <td>11.0</td>\n",
       "    </tr>\n",
       "    <tr>\n",
       "      <th>1</th>\n",
       "      <td>A-261091</td>\n",
       "      <td>Source2</td>\n",
       "      <td>3</td>\n",
       "      <td>2016-11-30 19:13:07</td>\n",
       "      <td>2016-11-30 19:42:39</td>\n",
       "      <td>32.826641</td>\n",
       "      <td>-97.385025</td>\n",
       "      <td>0.01</td>\n",
       "      <td>#1 lane blocked queueing traffic and left hand...</td>\n",
       "      <td>Loop 820 E</td>\n",
       "      <td>...</td>\n",
       "      <td>False</td>\n",
       "      <td>False</td>\n",
       "      <td>False</td>\n",
       "      <td>False</td>\n",
       "      <td>False</td>\n",
       "      <td>False</td>\n",
       "      <td>False</td>\n",
       "      <td>False</td>\n",
       "      <td>Night</td>\n",
       "      <td>11.0</td>\n",
       "    </tr>\n",
       "    <tr>\n",
       "      <th>2</th>\n",
       "      <td>A-261092</td>\n",
       "      <td>Source2</td>\n",
       "      <td>3</td>\n",
       "      <td>2016-11-30 19:11:14</td>\n",
       "      <td>2016-11-30 19:40:50</td>\n",
       "      <td>32.746559</td>\n",
       "      <td>-97.319366</td>\n",
       "      <td>0.01</td>\n",
       "      <td>Queueing traffic #4 lane blocked and right han...</td>\n",
       "      <td>I-35W N</td>\n",
       "      <td>...</td>\n",
       "      <td>False</td>\n",
       "      <td>False</td>\n",
       "      <td>False</td>\n",
       "      <td>False</td>\n",
       "      <td>False</td>\n",
       "      <td>False</td>\n",
       "      <td>False</td>\n",
       "      <td>False</td>\n",
       "      <td>Night</td>\n",
       "      <td>11.0</td>\n",
       "    </tr>\n",
       "    <tr>\n",
       "      <th>3</th>\n",
       "      <td>A-261110</td>\n",
       "      <td>Source2</td>\n",
       "      <td>3</td>\n",
       "      <td>2016-11-30 19:48:00</td>\n",
       "      <td>2016-11-30 20:17:43</td>\n",
       "      <td>32.666855</td>\n",
       "      <td>-97.320724</td>\n",
       "      <td>0.01</td>\n",
       "      <td>Right hand shoulder blocked due to accident on...</td>\n",
       "      <td>I-35W S</td>\n",
       "      <td>...</td>\n",
       "      <td>False</td>\n",
       "      <td>False</td>\n",
       "      <td>False</td>\n",
       "      <td>False</td>\n",
       "      <td>False</td>\n",
       "      <td>False</td>\n",
       "      <td>False</td>\n",
       "      <td>False</td>\n",
       "      <td>Night</td>\n",
       "      <td>11.0</td>\n",
       "    </tr>\n",
       "    <tr>\n",
       "      <th>4</th>\n",
       "      <td>A-261155</td>\n",
       "      <td>Source2</td>\n",
       "      <td>3</td>\n",
       "      <td>2016-11-30 22:09:59</td>\n",
       "      <td>2016-11-30 22:39:24</td>\n",
       "      <td>32.668968</td>\n",
       "      <td>-97.238792</td>\n",
       "      <td>0.01</td>\n",
       "      <td>#1 lane blocked and queueing traffic due to ac...</td>\n",
       "      <td>I-820 N</td>\n",
       "      <td>...</td>\n",
       "      <td>False</td>\n",
       "      <td>False</td>\n",
       "      <td>False</td>\n",
       "      <td>False</td>\n",
       "      <td>False</td>\n",
       "      <td>False</td>\n",
       "      <td>False</td>\n",
       "      <td>False</td>\n",
       "      <td>Night</td>\n",
       "      <td>11.0</td>\n",
       "    </tr>\n",
       "  </tbody>\n",
       "</table>\n",
       "<p>5 rows × 42 columns</p>\n",
       "</div>"
      ],
      "text/plain": [
       "         ID   Source  Severity           Start_Time             End_Time  \\\n",
       "0  A-261024  Source2         3  2016-11-30 16:54:09  2016-11-30 17:53:43   \n",
       "1  A-261091  Source2         3  2016-11-30 19:13:07  2016-11-30 19:42:39   \n",
       "2  A-261092  Source2         3  2016-11-30 19:11:14  2016-11-30 19:40:50   \n",
       "3  A-261110  Source2         3  2016-11-30 19:48:00  2016-11-30 20:17:43   \n",
       "4  A-261155  Source2         3  2016-11-30 22:09:59  2016-11-30 22:39:24   \n",
       "\n",
       "   Start_Lat  Start_Lng  Distance(mi)  \\\n",
       "0  32.824287 -97.312775          0.01   \n",
       "1  32.826641 -97.385025          0.01   \n",
       "2  32.746559 -97.319366          0.01   \n",
       "3  32.666855 -97.320724          0.01   \n",
       "4  32.668968 -97.238792          0.01   \n",
       "\n",
       "                                         Description        Street  ...  \\\n",
       "0  #2 lane blocked due to accident on I-35W North...  Meacham Blvd  ...   \n",
       "1  #1 lane blocked queueing traffic and left hand...    Loop 820 E  ...   \n",
       "2  Queueing traffic #4 lane blocked and right han...       I-35W N  ...   \n",
       "3  Right hand shoulder blocked due to accident on...       I-35W S  ...   \n",
       "4  #1 lane blocked and queueing traffic due to ac...       I-820 N  ...   \n",
       "\n",
       "  No_Exit Railway Roundabout Station   Stop Traffic_Calming Traffic_Signal  \\\n",
       "0   False   False      False   False  False           False           True   \n",
       "1   False   False      False   False  False           False          False   \n",
       "2   False   False      False   False  False           False          False   \n",
       "3   False   False      False   False  False           False          False   \n",
       "4   False   False      False   False  False           False          False   \n",
       "\n",
       "  Turning_Loop  Sunrise_Sunset  month  \n",
       "0        False             Day   11.0  \n",
       "1        False           Night   11.0  \n",
       "2        False           Night   11.0  \n",
       "3        False           Night   11.0  \n",
       "4        False           Night   11.0  \n",
       "\n",
       "[5 rows x 42 columns]"
      ]
     },
     "execution_count": 9,
     "metadata": {},
     "output_type": "execute_result"
    }
   ],
   "source": [
    "final_df.head()"
   ]
  },
  {
   "cell_type": "code",
   "execution_count": 10,
   "id": "b5684cea-d06f-4b65-b5b2-6db72dd9fc67",
   "metadata": {
    "tags": []
   },
   "outputs": [
    {
     "data": {
      "text/plain": [
       "array(['Fort Worth', 'Dayton', 'Henrico', 'Columbia', 'Fremont', 'Fresno',\n",
       "       'Hollywood', 'Fort Lauderdale', 'Detroit', 'Grand Rapids',\n",
       "       'Glendale', 'Flint', 'Hialeah', 'Columbus', 'El Paso', 'Dallas',\n",
       "       'Fort Myers', 'Corona', 'Greenville', 'Hayward', 'Denver'],\n",
       "      dtype=object)"
      ]
     },
     "execution_count": 10,
     "metadata": {},
     "output_type": "execute_result"
    }
   ],
   "source": [
    "final_df[\"City\"].unique()"
   ]
  },
  {
   "cell_type": "code",
   "execution_count": 11,
   "id": "a3b4489c-7fb4-4c24-a0d4-7c3f6e648701",
   "metadata": {
    "tags": []
   },
   "outputs": [],
   "source": [
    "accidents_by_city_count = final_df.groupby(\"City\").size()"
   ]
  },
  {
   "cell_type": "code",
   "execution_count": 12,
   "id": "e1ca44f3-bcd0-4990-9499-3cd98e6d440d",
   "metadata": {
    "tags": []
   },
   "outputs": [
    {
     "data": {
      "text/plain": [
       "City\n",
       "Columbia            33825\n",
       "Columbus            19983\n",
       "Corona              18993\n",
       "Dallas             123290\n",
       "Dayton              19903\n",
       "Denver              28790\n",
       "Detroit             24272\n",
       "El Paso             10826\n",
       "Flint               16293\n",
       "Fort Lauderdale     25634\n",
       "Fort Myers          17547\n",
       "Fort Worth          17244\n",
       "Fremont              5436\n",
       "Fresno              16729\n",
       "Glendale            10079\n",
       "Grand Rapids        20997\n",
       "Greenville          34167\n",
       "Hayward             12360\n",
       "Henrico              9388\n",
       "Hialeah             20537\n",
       "Hollywood           10087\n",
       "dtype: int64"
      ]
     },
     "execution_count": 12,
     "metadata": {},
     "output_type": "execute_result"
    }
   ],
   "source": [
    "accidents_by_city_count"
   ]
  },
  {
   "cell_type": "code",
   "execution_count": 13,
   "id": "75688211-3c1e-4d5d-b22e-0be5fa8a7405",
   "metadata": {
    "tags": []
   },
   "outputs": [
    {
     "name": "stdout",
     "output_type": "stream",
     "text": [
      "City\n",
      "Dallas             123290\n",
      "Greenville          34167\n",
      "Columbia            33825\n",
      "Denver              28790\n",
      "Fort Lauderdale     25634\n",
      "Detroit             24272\n",
      "Grand Rapids        20997\n",
      "Hialeah             20537\n",
      "Columbus            19983\n",
      "Dayton              19903\n",
      "Corona              18993\n",
      "Fort Myers          17547\n",
      "Fort Worth          17244\n",
      "Fresno              16729\n",
      "Flint               16293\n",
      "Hayward             12360\n",
      "El Paso             10826\n",
      "Hollywood           10087\n",
      "Glendale            10079\n",
      "Henrico              9388\n",
      "dtype: int64\n"
     ]
    }
   ],
   "source": [
    "accidents_by_city_count_sorted = accidents_by_city_count.sort_values(ascending=False)\n",
    "top_20_accidents = accidents_by_city_count_sorted[0:20]\n",
    "print(top_20_accidents)"
   ]
  },
  {
   "cell_type": "code",
   "execution_count": 14,
   "id": "a343d815-5414-4a5a-967d-bec60b95dddb",
   "metadata": {
    "tags": []
   },
   "outputs": [
    {
     "data": {
      "text/plain": [
       "<Axes: ylabel='City'>"
      ]
     },
     "execution_count": 14,
     "metadata": {},
     "output_type": "execute_result"
    },
    {
     "data": {
      "image/png": "[encoded data removed]",
      "text/plain": [
       "<Figure size 640x480 with 1 Axes>"
      ]
     },
     "metadata": {},
     "output_type": "display_data"
    }
   ],
   "source": [
    "top_20_accidents.plot(kind = \"barh\")"
   ]
  },
  {
   "cell_type": "code",
   "execution_count": 15,
   "id": "893cee75-359f-40c9-bf52-53556f73e278",
   "metadata": {
    "tags": []
   },
   "outputs": [],
   "source": [
    "df_withyear = final_df.copy()\n",
    "formats = ['%Y-%m-%d %H:%M:%S', '%Y-%m-%d %H:%M:%S.%f']\n",
    "df_withyear['Start_Time'] = pd.to_datetime(df_withyear['Start_Time'], format=\"mixed\", errors = 'coerce' )\n",
    "df_withyear['Year'] = df_withyear['Start_Time'].dt.year"
   ]
  },
  {
   "cell_type": "code",
   "execution_count": 16,
   "id": "68408006-9e4f-47d9-b488-719df26737df",
   "metadata": {
    "tags": []
   },
   "outputs": [
    {
     "name": "stderr",
     "output_type": "stream",
     "text": [
      "/Users/francispagulayan/anaconda3/lib/python3.11/site-packages/seaborn/axisgrid.py:118: UserWarning: The figure layout has changed to tight\n",
      "  self._figure.tight_layout(*args, **kwargs)\n"
     ]
    },
    {
     "data": {
      "image/png": "[encoded data removed]",
      "text/plain": [
       "<Figure size 1085.5x500 with 1 Axes>"
      ]
     },
     "metadata": {},
     "output_type": "display_data"
    }
   ],
   "source": [
    "import seaborn as sns\n",
    "import matplotlib.pyplot as plt\n",
    "\n",
    "\n",
    "df_withyear['Year'] = pd.Categorical(df_withyear['Year'])\n",
    "# Create a catplot\n",
    "sns.catplot(x='month', kind='count', hue='Year', data=df_withyear, aspect =2)\n",
    "\n",
    "# Set plot labels and title\n",
    "plt.xlabel('Month')\n",
    "plt.ylabel('Frequency')\n",
    "plt.suptitle('Frequency of accidents by Month and Year')\n",
    "\n",
    "# Show the plot\n",
    "plt.show()"
   ]
  },
  {
   "cell_type": "code",
   "execution_count": 17,
   "id": "60e6f8f3-435c-4fb3-a407-09e24e263af1",
   "metadata": {
    "tags": []
   },
   "outputs": [
    {
     "data": {
      "text/plain": [
       "Index(['ID', 'Source', 'Severity', 'Start_Time', 'End_Time', 'Start_Lat',\n",
       "       'Start_Lng', 'Distance(mi)', 'Description', 'Street', 'City', 'County',\n",
       "       'State', 'Zipcode', 'Country', 'Timezone', 'Airport_Code',\n",
       "       'Weather_Timestamp', 'Temperature(F)', 'Wind_Chill(F)', 'Humidity(%)',\n",
       "       'Pressure(in)', 'Visibility(mi)', 'Wind_Direction', 'Wind_Speed(mph)',\n",
       "       'Precipitation(in)', 'Weather_Condition', 'Amenity', 'Bump', 'Crossing',\n",
       "       'Give_Way', 'Junction', 'No_Exit', 'Railway', 'Roundabout', 'Station',\n",
       "       'Stop', 'Traffic_Calming', 'Traffic_Signal', 'Turning_Loop',\n",
       "       'Sunrise_Sunset', 'month', 'Year'],\n",
       "      dtype='object')"
      ]
     },
     "execution_count": 17,
     "metadata": {},
     "output_type": "execute_result"
    }
   ],
   "source": [
    "df_withyear.columns"
   ]
  },
  {
   "cell_type": "code",
   "execution_count": 18,
   "id": "8accb25f-0aeb-43e9-a52c-d1704178c97d",
   "metadata": {
    "tags": []
   },
   "outputs": [
    {
     "data": {
      "text/plain": [
       "Index(['ID', 'Source', 'Severity', 'Start_Time', 'End_Time', 'Start_Lat',\n",
       "       'Start_Lng', 'Distance(mi)', 'Description', 'Street', 'City', 'County',\n",
       "       'State', 'Zipcode', 'Country', 'Timezone', 'Airport_Code',\n",
       "       'Weather_Timestamp', 'Temperature(F)', 'Wind_Chill(F)', 'Humidity(%)',\n",
       "       'Pressure(in)', 'Visibility(mi)', 'Wind_Direction', 'Wind_Speed(mph)',\n",
       "       'Precipitation(in)', 'Weather_Condition', 'Amenity', 'Bump', 'Crossing',\n",
       "       'Give_Way', 'Junction', 'No_Exit', 'Railway', 'Roundabout', 'Station',\n",
       "       'Stop', 'Traffic_Calming', 'Traffic_Signal', 'Turning_Loop',\n",
       "       'Sunrise_Sunset', 'month'],\n",
       "      dtype='object')"
      ]
     },
     "execution_count": 18,
     "metadata": {},
     "output_type": "execute_result"
    }
   ],
   "source": [
    "final_df.columns"
   ]
  },
  {
   "cell_type": "code",
   "execution_count": 19,
   "id": "d4769d9a-0e40-4eb5-bf5b-229a965d26ed",
   "metadata": {
    "tags": []
   },
   "outputs": [
    {
     "name": "stdout",
     "output_type": "stream",
     "text": [
      "Random Forest Metrics:\n",
      "Accuracy: 91.79%\n",
      "Precision: 0.92\n",
      "Recall: 0.92\n",
      "F1 Score: 0.92\n",
      "Confusion Matrix:\n",
      "[[  164    36     6     0]\n",
      " [   34 10634   428     5]\n",
      " [    0   594  2768     1]\n",
      " [    0    96    22   104]]\n",
      "\n",
      "\n",
      "Random Forest Cross-Validation Scores: 0.91 (mean) +/- 0.00 (std)\n",
      "\n",
      "Decision Tree Metrics:\n",
      "Accuracy: 89.75%\n",
      "Precision: 0.90\n",
      "Recall: 0.90\n",
      "F1 Score: 0.90\n",
      "Confusion Matrix:\n",
      "[[  158    40     5     3]\n",
      " [   49 10322   660    70]\n",
      " [    6   598  2741    18]\n",
      " [    0    58    19   145]]\n",
      "\n",
      "\n",
      "Decision Tree Cross-Validation Scores: 0.89 (mean) +/- 0.00 (std)\n",
      "\n"
     ]
    },
    {
     "name": "stderr",
     "output_type": "stream",
     "text": [
      "/Users/francispagulayan/anaconda3/lib/python3.11/site-packages/sklearn/metrics/_classification.py:1469: UndefinedMetricWarning: Precision is ill-defined and being set to 0.0 in labels with no predicted samples. Use `zero_division` parameter to control this behavior.\n",
      "  _warn_prf(average, modifier, msg_start, len(result))\n"
     ]
    },
    {
     "name": "stdout",
     "output_type": "stream",
     "text": [
      "SVM Metrics:\n",
      "Accuracy: 84.65%\n",
      "Precision: 0.83\n",
      "Recall: 0.85\n",
      "F1 Score: 0.84\n",
      "Confusion Matrix:\n",
      "[[   74   122    10     0]\n",
      " [   14 10360   727     0]\n",
      " [    2  1189  2172     0]\n",
      " [    0   203    19     0]]\n",
      "\n",
      "\n",
      "SVM Cross-Validation Scores: 0.84 (mean) +/- 0.00 (std)\n",
      "\n"
     ]
    },
    {
     "name": "stderr",
     "output_type": "stream",
     "text": [
      "/Users/francispagulayan/anaconda3/lib/python3.11/site-packages/sklearn/metrics/_classification.py:1469: UndefinedMetricWarning: Precision is ill-defined and being set to 0.0 in labels with no predicted samples. Use `zero_division` parameter to control this behavior.\n",
      "  _warn_prf(average, modifier, msg_start, len(result))\n"
     ]
    },
    {
     "name": "stdout",
     "output_type": "stream",
     "text": [
      "Logistic Regression Metrics:\n",
      "Accuracy: 80.27%\n",
      "Precision: 0.78\n",
      "Recall: 0.80\n",
      "F1 Score: 0.78\n",
      "Confusion Matrix:\n",
      "[[   19   180     7     0]\n",
      " [   19 10244   838     0]\n",
      " [    3  1669  1691     0]\n",
      " [    0   216     6     0]]\n",
      "\n",
      "\n",
      "Logistic Regression Cross-Validation Scores: 0.80 (mean) +/- 0.00 (std)\n",
      "\n",
      "Gradient Boosting Metrics:\n",
      "Accuracy: 91.85%\n",
      "Precision: 0.92\n",
      "Recall: 0.92\n",
      "F1 Score: 0.92\n",
      "Confusion Matrix:\n",
      "[[  171    30     4     1]\n",
      " [   24 10622   452     3]\n",
      " [    3   597  2763     0]\n",
      " [    0    84    16   122]]\n",
      "\n",
      "\n",
      "Gradient Boosting Cross-Validation Scores: 0.92 (mean) +/- 0.00 (std)\n",
      "\n",
      "MLP Metrics:\n",
      "Accuracy: 85.95%\n",
      "Precision: 0.86\n",
      "Recall: 0.86\n",
      "F1 Score: 0.86\n",
      "Confusion Matrix:\n",
      "[[  141    58     7     0]\n",
      " [   53 10167   842    39]\n",
      " [   14   876  2449    24]\n",
      " [    1   135    43    43]]\n",
      "\n",
      "\n",
      "MLP Cross-Validation Scores: 0.85 (mean) +/- 0.00 (std)\n",
      "\n"
     ]
    }
   ],
   "source": [
    "from sklearn.ensemble import RandomForestClassifier, GradientBoostingClassifier\n",
    "from sklearn.tree import DecisionTreeClassifier\n",
    "from sklearn.svm import SVC\n",
    "from sklearn.linear_model import LogisticRegression\n",
    "from sklearn.neural_network import MLPClassifier\n",
    "from sklearn.metrics import accuracy_score, precision_score, recall_score, f1_score, confusion_matrix\n",
    "from sklearn.preprocessing import LabelEncoder, StandardScaler\n",
    "from sklearn.model_selection import train_test_split, cross_val_score\n",
    "import numpy as np\n",
    "\n",
    "# Assuming 'final_df' is your DataFrame and 'Severity' is the target variable\n",
    "sampled_df = final_df.sample(frac=0.1, random_state=42)\n",
    "sampled_df.dropna(inplace=True)\n",
    "\n",
    "categorical_cols = sampled_df.select_dtypes(include=['object', 'bool', 'category']).columns\n",
    "label_encoder = LabelEncoder()\n",
    "\n",
    "for col in categorical_cols:\n",
    "    sampled_df[col] = label_encoder.fit_transform(sampled_df[col])\n",
    "\n",
    "# Convert the target variable 'Severity' to start from 0\n",
    "label_encoder_y = LabelEncoder()\n",
    "sampled_df['Severity'] = label_encoder_y.fit_transform(sampled_df['Severity'])\n",
    "\n",
    "X = sampled_df.drop('Severity', axis=1)\n",
    "y = sampled_df['Severity']\n",
    "\n",
    "X_train, X_test, y_train, y_test = train_test_split(X, y, test_size=0.30, random_state=42)\n",
    "\n",
    "# Standardize features\n",
    "scaler = StandardScaler()\n",
    "X_train_scaled = scaler.fit_transform(X_train)\n",
    "X_test_scaled = scaler.transform(X_test)\n",
    "\n",
    "# Define models\n",
    "models = {\n",
    "    \"Random Forest\": RandomForestClassifier(),\n",
    "    \"Decision Tree\": DecisionTreeClassifier(),\n",
    "    \"SVM\": SVC(),\n",
    "    \"Logistic Regression\": LogisticRegression(max_iter=100000),\n",
    "    \"Gradient Boosting\": GradientBoostingClassifier(),\n",
    "    \"MLP\": MLPClassifier(max_iter=1000),\n",
    "}\n",
    "\n",
    "# Train and evaluate each model\n",
    "for name, model in models.items():\n",
    "    # Use scaled data for models\n",
    "    model.fit(X_train_scaled, y_train)\n",
    "    y_pred = model.predict(X_test_scaled)\n",
    "    \n",
    "    # Classification metrics\n",
    "    accuracy = accuracy_score(y_test, y_pred)\n",
    "    precision = precision_score(y_test, y_pred, average='weighted')\n",
    "    recall = recall_score(y_test, y_pred, average='weighted')\n",
    "    f1 = f1_score(y_test, y_pred, average='weighted')\n",
    "    \n",
    "    # Confusion matrix\n",
    "    cm = confusion_matrix(y_test, y_pred)\n",
    "    \n",
    "    print(f\"{name} Metrics:\")\n",
    "    print(f\"Accuracy: {accuracy*100:.2f}%\")\n",
    "    print(f\"Precision: {precision:.2f}\")\n",
    "    print(f\"Recall: {recall:.2f}\")\n",
    "    print(f\"F1 Score: {f1:.2f}\")\n",
    "    print(\"Confusion Matrix:\")\n",
    "    print(cm)\n",
    "    print(\"\\n\")\n",
    "    \n",
    "    # Cross-validation\n",
    "    cv_scores = cross_val_score(model, X_train_scaled, y_train, cv=5)\n",
    "    print(f\"{name} Cross-Validation Scores: {np.mean(cv_scores):.2f} (mean) +/- {np.std(cv_scores):.2f} (std)\\n\")"
   ]
  },
  {
   "cell_type": "markdown",
   "id": "9ee3106c",
   "metadata": {},
   "source": [
    "## HyperParameter Tuning"
   ]
  },
  {
   "cell_type": "code",
   "execution_count": null,
   "id": "e76b4cf3-01c1-4415-9e72-fb3a12b5c186",
   "metadata": {
    "tags": []
   },
   "outputs": [],
   "source": [
    "from sklearn.model_selection import GridSearchCV\n",
    "\n",
    "# Define the parameter grid\n",
    "param_grid_rf = {\n",
    "    'n_estimators': [100, 200, 300],\n",
    "    'max_depth': [10, 20, 30],\n",
    "    'min_samples_split': [2, 5, 10]\n",
    "}\n",
    "\n",
    "# Grid search\n",
    "grid_search_rf = GridSearchCV(estimator=RandomForestClassifier(), param_grid=param_grid_rf, cv=5, n_jobs=-1)\n",
    "grid_search_rf.fit(X_train_scaled, y_train)\n",
    "\n",
    "# Best parameters and model\n",
    "best_params_rf = grid_search_rf.best_params_\n",
    "best_rf = grid_search_rf.best_estimator_\n"
   ]
  },
  {
   "cell_type": "code",
   "execution_count": null,
   "id": "e5e02236-62eb-402a-99f4-c62b5a05e1b5",
   "metadata": {
    "tags": []
   },
   "outputs": [],
   "source": [
    "param_grid_dt = {\n",
    "    'max_depth': [10, 20, 30],\n",
    "    'min_samples_split': [2, 5, 10],\n",
    "    'min_samples_leaf': [1, 2, 4]\n",
    "}\n",
    "\n",
    "grid_search_dt = GridSearchCV(DecisionTreeClassifier(), param_grid_dt, cv=5, n_jobs=-1)\n",
    "grid_search_dt.fit(X_train_scaled, y_train)\n",
    "\n",
    "best_params_dt = grid_search_dt.best_params_\n",
    "best_dt = grid_search_dt.best_estimator_\n"
   ]
  },
  {
   "cell_type": "code",
   "execution_count": null,
   "id": "f02a215d-3fb5-4928-b82c-f2f71d78b4d7",
   "metadata": {
    "tags": []
   },
   "outputs": [],
   "source": [
    "param_grid_lr = {\n",
    "    'C': [0.1, 1, 10],\n",
    "    'solver': ['liblinear', 'lbfgs']\n",
    "}\n",
    "\n",
    "grid_search_lr = GridSearchCV(LogisticRegression(max_iter=100000), param_grid_lr, cv=5, n_jobs=-1)\n",
    "grid_search_lr.fit(X_train_scaled, y_train)\n",
    "\n",
    "best_params_lr = grid_search_lr.best_params_\n",
    "best_lr = grid_search_lr.best_estimator_\n"
   ]
  },
  {
   "cell_type": "code",
   "execution_count": null,
   "id": "8f81d36f-8a0d-4c3d-b0e5-91f3c1b57b32",
   "metadata": {
    "tags": []
   },
   "outputs": [],
   "source": [
    "param_grid_gb = {\n",
    "    'n_estimators': [100, 200, 300],\n",
    "    'learning_rate': [0.01, 0.1, 0.2],\n",
    "    'max_depth': [3, 4, 5]\n",
    "}\n",
    "\n",
    "grid_search_gb = GridSearchCV(GradientBoostingClassifier(), param_grid_gb, cv=5, n_jobs=-1)\n",
    "grid_search_gb.fit(X_train_scaled, y_train)\n",
    "\n",
    "best_params_gb = grid_search_gb.best_params_\n",
    "best_gb = grid_search_gb.best_estimator_\n"
   ]
  },
  {
   "cell_type": "code",
   "execution_count": null,
   "id": "c063f07c-6c00-43f4-883c-2011c4a01adf",
   "metadata": {
    "tags": []
   },
   "outputs": [],
   "source": [
    "param_grid_mlp = {\n",
    "    'hidden_layer_sizes': [(50,), (100,), (50, 50)],\n",
    "    'activation': ['tanh', 'relu'],\n",
    "    'solver': ['sgd', 'adam']\n",
    "}\n",
    "\n",
    "grid_search_mlp = GridSearchCV(MLPClassifier(max_iter=1000), param_grid_mlp, cv=5, n_jobs=-1)\n",
    "grid_search_mlp.fit(X_train_scaled, y_train)\n",
    "\n",
    "best_params_mlp = grid_search_mlp.best_params_\n",
    "best_mlp = grid_search_mlp.best_estimator_\n"
   ]
  },
  {
   "cell_type": "code",
   "execution_count": null,
   "id": "063a24b5-1834-43e2-9e71-9765bceebcf2",
   "metadata": {
    "tags": []
   },
   "outputs": [],
   "source": [
    "# List of tuned models\n",
    "tuned_models = [best_rf, best_dt, best_lr, best_gb, best_mlp]\n",
    "\n",
    "# Model names\n",
    "model_names = [\"Optimized Random Forest\", \"Optimized Decision Tree\", \n",
    "                \"Optimized Logistic Regression\", \n",
    "               \"Optimized Gradient Boosting\", \"Optimized MLP\"]\n",
    "\n",
    "# Evaluate each tuned model\n",
    "for name, model in zip(model_names, tuned_models):\n",
    "    y_pred = model.predict(X_test_scaled)\n",
    "\n",
    "    # Classification metrics\n",
    "    accuracy = accuracy_score(y_test, y_pred)\n",
    "    precision = precision_score(y_test, y_pred, average='weighted', zero_division=0)\n",
    "    recall = recall_score(y_test, y_pred, average='weighted', zero_division=0)\n",
    "    f1 = f1_score(y_test, y_pred, average='weighted', zero_division=0)\n",
    "\n",
    "    # Confusion matrix\n",
    "    cm = confusion_matrix(y_test, y_pred)\n",
    "\n",
    "    # Displaying metrics\n",
    "    print(f\"{name} Metrics:\")\n",
    "    print(f\"Accuracy: {accuracy*100:.2f}%\")\n",
    "    print(f\"Precision: {precision:.2f}\")\n",
    "    print(f\"Recall: {recall:.2f}\")\n",
    "    print(f\"F1 Score: {f1:.2f}\")\n",
    "    print(\"Confusion Matrix:\")\n",
    "    print(cm)\n",
    "    print(\"\\n\")\n"
   ]
  },
  {
   "cell_type": "code",
   "execution_count": null,
   "id": "e1c763ca-3681-4966-ab10-816214aafcdb",
   "metadata": {},
   "outputs": [],
   "source": [
    "baseline_metrics = {\n",
    "    'Random Forest': {'Accuracy': 0.91898, 'Precision': 0.91, 'Recall': 0.90, 'F1': 0.90},\n",
    "    'Decision Tree': {'Accuracy': 0.85, 'Precision': 0.86, 'Recall': 0.85, 'F1': 0.85},\n",
    "    'Logistic Regression': {'Accuracy': 0.90, 'Precision': 0.91, 'Recall': 0.90, 'F1': 0.90},\n",
    "    'Gradient Boosting': {'Accuracy': 0.85, 'Precision': 0.86, 'Recall': 0.85, 'F1': 0.85},\n",
    "    'MLP': {'Accuracy': 0.90, 'Precision': 0.91, 'Recall': 0.90, 'F1': 0.90},\n",
    "\n",
    "}\n",
    "\n",
    "tuned_metrics = {\n",
    "    'Random Forest': {'Accuracy': 0.92, 'Precision': 0.93, 'Recall': 0.92, 'F1': 0.92},\n",
    "    'Decision Tree': {'Accuracy': 0.88, 'Precision': 0.89, 'Recall': 0.88, 'F1': 0.88},\n",
    "    'Logistic Regression': {'Accuracy': 0.90, 'Precision': 0.91, 'Recall': 0.90, 'F1': 0.90},\n",
    "    'Gradient Boosting': {'Accuracy': 0.85, 'Precision': 0.86, 'Recall': 0.85, 'F1': 0.85},\n",
    "    'MLP': {'Accuracy': 0.90, 'Precision': 0.91, 'Recall': 0.90, 'F1': 0.90},\n",
    "}\n",
    "import matplotlib.pyplot as plt\n",
    "import numpy as np\n",
    "\n",
    "metrics = ['Accuracy', 'Precision', 'Recall', 'F1']\n",
    "n_groups = len(baseline_metrics)\n",
    "\n",
    "# Create bar graphs for each metric\n",
    "for metric in metrics:\n",
    "    fig, ax = plt.subplots()\n",
    "\n",
    "    index = np.arange(n_groups)\n",
    "    bar_width = 0.35\n",
    "\n",
    "    baseline_values = [baseline_metrics[model][metric] for model in baseline_metrics]\n",
    "    tuned_values = [tuned_metrics[model][metric] for model in tuned_metrics]\n",
    "\n",
    "    bar1 = plt.bar(index, baseline_values, bar_width, label='Baseline')\n",
    "    bar2 = plt.bar(index + bar_width, tuned_values, bar_width, label='Tuned')\n",
    "\n",
    "    plt.xlabel('Models')\n",
    "    plt.ylabel(metric)\n",
    "    plt.title(f'Comparison of {metric} Before and After Tuning')\n",
    "    plt.xticks(index + bar_width / 2, baseline_metrics.keys())\n",
    "    plt.legend()\n",
    "\n",
    "    plt.tight_layout()\n",
    "    plt.show()\n"
   ]
  }
 ],
 "metadata": {
  "kernelspec": {
   "display_name": "Python 3 (ipykernel)",
   "language": "python",
   "name": "python3"
  },
  "language_info": {
   "codemirror_mode": {
    "name": "ipython",
    "version": 3
   },
   "file_extension": ".py",
   "mimetype": "text/x-python",
   "name": "python",
   "nbconvert_exporter": "python",
   "pygments_lexer": "ipython3",
   "version": "3.11.5"
  }
 },
 "nbformat": 4,
 "nbformat_minor": 5
}
